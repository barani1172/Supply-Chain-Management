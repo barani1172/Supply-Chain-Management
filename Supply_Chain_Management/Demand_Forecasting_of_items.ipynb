{
  "nbformat": 4,
  "nbformat_minor": 0,
  "metadata": {
    "accelerator": "GPU",
    "colab": {
      "name": "Demand Forecasting of items.ipynb",
      "provenance": [],
      "collapsed_sections": [],
      "toc_visible": true
    },
    "kernelspec": {
      "display_name": "Python 3",
      "name": "python3"
    }
  },
  "cells": [
    {
      "cell_type": "code",
      "metadata": {
        "id": "ePUwWQ9h1dQw",
        "outputId": "b406768f-91ba-47b1-d1d6-ec1f66ae8bce",
        "colab": {
          "base_uri": "https://localhost:8080/",
          "height": 177
        }
      },
      "source": [
        "# Required Libraries\n",
        "\n",
        "import pandas as pd\n",
        "import re\n",
        "import nltk \n",
        "nltk.download('punkt')\n",
        "nltk.download('wordnet')\n",
        "nltk.download('stopwords')\n",
        "nltk.download('averaged_perceptron_tagger')\n",
        "from nltk.corpus import stopwords \n",
        "from nltk.tokenize import word_tokenize, sent_tokenize "
      ],
      "execution_count": 1,
      "outputs": [
        {
          "output_type": "stream",
          "text": [
            "[nltk_data] Downloading package punkt to /root/nltk_data...\n",
            "[nltk_data]   Unzipping tokenizers/punkt.zip.\n",
            "[nltk_data] Downloading package wordnet to /root/nltk_data...\n",
            "[nltk_data]   Unzipping corpora/wordnet.zip.\n",
            "[nltk_data] Downloading package stopwords to /root/nltk_data...\n",
            "[nltk_data]   Unzipping corpora/stopwords.zip.\n",
            "[nltk_data] Downloading package averaged_perceptron_tagger to\n",
            "[nltk_data]     /root/nltk_data...\n",
            "[nltk_data]   Unzipping taggers/averaged_perceptron_tagger.zip.\n"
          ],
          "name": "stdout"
        }
      ]
    },
    {
      "cell_type": "markdown",
      "metadata": {
        "id": "Axr_enjHuQ0t"
      },
      "source": [
        "# Dataset\n",
        "  1. Dataset is used from online retail data of a gift shop.\n",
        "  2. Attributes are InvoiceNo, StockCode, Description, Quantity, InvoiceDate UnitPrice, CustomerID, Country.\n",
        "\n"
      ]
    },
    {
      "cell_type": "code",
      "metadata": {
        "id": "3dnJ_GCS5Ae8",
        "outputId": "580b6d3e-c955-4065-d71f-1794752e50d8",
        "colab": {
          "base_uri": "https://localhost:8080/",
          "height": 194
        }
      },
      "source": [
        "data = pd.read_csv('/content/drive/My Drive/Academic projects/Supply Chain Analytics/OnlineRetail.csv',  encoding= 'unicode_escape')\n",
        "data.head()"
      ],
      "execution_count": 2,
      "outputs": [
        {
          "output_type": "execute_result",
          "data": {
            "text/html": [
              "<div>\n",
              "<style scoped>\n",
              "    .dataframe tbody tr th:only-of-type {\n",
              "        vertical-align: middle;\n",
              "    }\n",
              "\n",
              "    .dataframe tbody tr th {\n",
              "        vertical-align: top;\n",
              "    }\n",
              "\n",
              "    .dataframe thead th {\n",
              "        text-align: right;\n",
              "    }\n",
              "</style>\n",
              "<table border=\"1\" class=\"dataframe\">\n",
              "  <thead>\n",
              "    <tr style=\"text-align: right;\">\n",
              "      <th></th>\n",
              "      <th>InvoiceNo</th>\n",
              "      <th>StockCode</th>\n",
              "      <th>Description</th>\n",
              "      <th>Quantity</th>\n",
              "      <th>InvoiceDate</th>\n",
              "      <th>UnitPrice</th>\n",
              "      <th>CustomerID</th>\n",
              "      <th>Country</th>\n",
              "    </tr>\n",
              "  </thead>\n",
              "  <tbody>\n",
              "    <tr>\n",
              "      <th>0</th>\n",
              "      <td>536365</td>\n",
              "      <td>85123A</td>\n",
              "      <td>WHITE HANGING HEART T-LIGHT HOLDER</td>\n",
              "      <td>6</td>\n",
              "      <td>12/1/2010 8:26</td>\n",
              "      <td>2.55</td>\n",
              "      <td>17850.0</td>\n",
              "      <td>United Kingdom</td>\n",
              "    </tr>\n",
              "    <tr>\n",
              "      <th>1</th>\n",
              "      <td>536365</td>\n",
              "      <td>71053</td>\n",
              "      <td>WHITE METAL LANTERN</td>\n",
              "      <td>6</td>\n",
              "      <td>12/1/2010 8:26</td>\n",
              "      <td>3.39</td>\n",
              "      <td>17850.0</td>\n",
              "      <td>United Kingdom</td>\n",
              "    </tr>\n",
              "    <tr>\n",
              "      <th>2</th>\n",
              "      <td>536365</td>\n",
              "      <td>84406B</td>\n",
              "      <td>CREAM CUPID HEARTS COAT HANGER</td>\n",
              "      <td>8</td>\n",
              "      <td>12/1/2010 8:26</td>\n",
              "      <td>2.75</td>\n",
              "      <td>17850.0</td>\n",
              "      <td>United Kingdom</td>\n",
              "    </tr>\n",
              "    <tr>\n",
              "      <th>3</th>\n",
              "      <td>536365</td>\n",
              "      <td>84029G</td>\n",
              "      <td>KNITTED UNION FLAG HOT WATER BOTTLE</td>\n",
              "      <td>6</td>\n",
              "      <td>12/1/2010 8:26</td>\n",
              "      <td>3.39</td>\n",
              "      <td>17850.0</td>\n",
              "      <td>United Kingdom</td>\n",
              "    </tr>\n",
              "    <tr>\n",
              "      <th>4</th>\n",
              "      <td>536365</td>\n",
              "      <td>84029E</td>\n",
              "      <td>RED WOOLLY HOTTIE WHITE HEART.</td>\n",
              "      <td>6</td>\n",
              "      <td>12/1/2010 8:26</td>\n",
              "      <td>3.39</td>\n",
              "      <td>17850.0</td>\n",
              "      <td>United Kingdom</td>\n",
              "    </tr>\n",
              "  </tbody>\n",
              "</table>\n",
              "</div>"
            ],
            "text/plain": [
              "  InvoiceNo StockCode  ... CustomerID         Country\n",
              "0    536365    85123A  ...    17850.0  United Kingdom\n",
              "1    536365     71053  ...    17850.0  United Kingdom\n",
              "2    536365    84406B  ...    17850.0  United Kingdom\n",
              "3    536365    84029G  ...    17850.0  United Kingdom\n",
              "4    536365    84029E  ...    17850.0  United Kingdom\n",
              "\n",
              "[5 rows x 8 columns]"
            ]
          },
          "metadata": {
            "tags": []
          },
          "execution_count": 2
        }
      ]
    },
    {
      "cell_type": "code",
      "metadata": {
        "id": "1ntJn5Le91On",
        "outputId": "baf62045-6b23-4a8f-953b-977275df4d2f",
        "colab": {
          "base_uri": "https://localhost:8080/",
          "height": 301
        }
      },
      "source": [
        "# checking actual and unique in each attibutes.\n",
        "\n",
        "for i in data.columns:\n",
        "  print(\"Actual number of values\",i,len(data[i]))\n",
        "  print(\"Unique number of values\",i,len(data[i].unique()))"
      ],
      "execution_count": 3,
      "outputs": [
        {
          "output_type": "stream",
          "text": [
            "Actual number of values InvoiceNo 541909\n",
            "Unique number of values InvoiceNo 25900\n",
            "Actual number of values StockCode 541909\n",
            "Unique number of values StockCode 4070\n",
            "Actual number of values Description 541909\n",
            "Unique number of values Description 4224\n",
            "Actual number of values Quantity 541909\n",
            "Unique number of values Quantity 722\n",
            "Actual number of values InvoiceDate 541909\n",
            "Unique number of values InvoiceDate 23260\n",
            "Actual number of values UnitPrice 541909\n",
            "Unique number of values UnitPrice 1630\n",
            "Actual number of values CustomerID 541909\n",
            "Unique number of values CustomerID 4373\n",
            "Actual number of values Country 541909\n",
            "Unique number of values Country 38\n"
          ],
          "name": "stdout"
        }
      ]
    },
    {
      "cell_type": "code",
      "metadata": {
        "id": "F5FEu5n27IXe",
        "outputId": "c3d63a06-35fa-458c-e1bb-e13396e44f8d",
        "colab": {
          "base_uri": "https://localhost:8080/",
          "height": 177
        }
      },
      "source": [
        "# Checking null values in each attributes\n",
        "\n",
        "data.isnull().sum()"
      ],
      "execution_count": 5,
      "outputs": [
        {
          "output_type": "execute_result",
          "data": {
            "text/plain": [
              "InvoiceNo           0\n",
              "StockCode           0\n",
              "Description      1454\n",
              "Quantity            0\n",
              "InvoiceDate         0\n",
              "UnitPrice           0\n",
              "CustomerID     135080\n",
              "Country             0\n",
              "dtype: int64"
            ]
          },
          "metadata": {
            "tags": []
          },
          "execution_count": 5
        }
      ]
    },
    {
      "cell_type": "code",
      "metadata": {
        "id": "i5G1WyQZ7oYV",
        "outputId": "6b189e29-3f10-4b45-eec6-f4504b3f0655",
        "colab": {
          "base_uri": "https://localhost:8080/",
          "height": 177
        }
      },
      "source": [
        "# Dropped null values because imputation in not possible in Description column and Customer ID\n",
        "\n",
        "data.dropna(inplace=True)\n",
        "data.isnull().sum()"
      ],
      "execution_count": 6,
      "outputs": [
        {
          "output_type": "execute_result",
          "data": {
            "text/plain": [
              "InvoiceNo      0\n",
              "StockCode      0\n",
              "Description    0\n",
              "Quantity       0\n",
              "InvoiceDate    0\n",
              "UnitPrice      0\n",
              "CustomerID     0\n",
              "Country        0\n",
              "dtype: int64"
            ]
          },
          "metadata": {
            "tags": []
          },
          "execution_count": 6
        }
      ]
    },
    {
      "cell_type": "markdown",
      "metadata": {
        "id": "VlsYA_gTf34Q"
      },
      "source": [
        "# Lets create new fetures from \"Description\" Column."
      ]
    },
    {
      "cell_type": "markdown",
      "metadata": {
        "id": "Du-SBZcJ0wr7"
      },
      "source": [
        "- POS tagging of Description column for taking out features as a category.\n",
        "\n",
        "- Fetched 'noun' as a value and made it a new column name 'Product Type'\n",
        "\n",
        "- Also take out colours from 'Description' and made a new column name \"Colour_type\" ."
      ]
    },
    {
      "cell_type": "code",
      "metadata": {
        "id": "L2FrEMLJTJHX"
      },
      "source": [
        "colours = ['red','orange', 'yellow','green', 'blue', 'indigo','violet','purple','pink','silver', 'gold', 'beige', 'brown', 'grey', 'gray', 'black', 'white', 'cream']\n",
        "\n",
        "stop_words = set(stopwords.words('english'))\n",
        "Product_type = []\n",
        "Colour_type = []\n",
        "dataset=data.head(50000)\n",
        "for row in dataset.iloc[:,2]:\n",
        "  s=\" \"\n",
        "  description = re.sub('[^a-zA-Z]',\" \", str(row).lower()) #cleaning of text data\n",
        "  wordsList = nltk.word_tokenize(description) #tokenization\n",
        "  wordsList = [nltk.stem.WordNetLemmatizer().lemmatize(w, 'n') for w in wordsList if not w in stop_words] # lemmitization\n",
        "\n",
        "  flag=False\n",
        "  for w in wordsList:\n",
        "    if w in colours:\n",
        "      Colour_type.append(w)\n",
        "      flag=True\n",
        "      break\n",
        "  if flag==False:\n",
        "    Colour_type.append(\"no_color\") #taking out colours from description\n",
        "\n",
        "  tagged = nltk.pos_tag(wordsList)\n",
        "\n",
        "  for tag in tagged:\n",
        "    if tag[1]=='NN' :\n",
        "      s+=tag[0] +  \" \"\n",
        "  Product_type.append(s)\n"
      ],
      "execution_count": 7,
      "outputs": []
    },
    {
      "cell_type": "code",
      "metadata": {
        "id": "vagsDRqMeKuX",
        "outputId": "f69ddd61-14bc-41c3-9cfd-4791c2e856db",
        "colab": {
          "base_uri": "https://localhost:8080/",
          "height": 407
        }
      },
      "source": [
        "# Adding new columns in dataframe \n",
        "\n",
        "dataset['Product Type']=Product_type\n",
        "dataset['Colour_type']=Colour_type\n",
        "dataset.head()"
      ],
      "execution_count": 8,
      "outputs": [
        {
          "output_type": "stream",
          "text": [
            "/usr/local/lib/python3.6/dist-packages/ipykernel_launcher.py:3: SettingWithCopyWarning: \n",
            "A value is trying to be set on a copy of a slice from a DataFrame.\n",
            "Try using .loc[row_indexer,col_indexer] = value instead\n",
            "\n",
            "See the caveats in the documentation: https://pandas.pydata.org/pandas-docs/stable/user_guide/indexing.html#returning-a-view-versus-a-copy\n",
            "  This is separate from the ipykernel package so we can avoid doing imports until\n",
            "/usr/local/lib/python3.6/dist-packages/ipykernel_launcher.py:4: SettingWithCopyWarning: \n",
            "A value is trying to be set on a copy of a slice from a DataFrame.\n",
            "Try using .loc[row_indexer,col_indexer] = value instead\n",
            "\n",
            "See the caveats in the documentation: https://pandas.pydata.org/pandas-docs/stable/user_guide/indexing.html#returning-a-view-versus-a-copy\n",
            "  after removing the cwd from sys.path.\n"
          ],
          "name": "stderr"
        },
        {
          "output_type": "execute_result",
          "data": {
            "text/html": [
              "<div>\n",
              "<style scoped>\n",
              "    .dataframe tbody tr th:only-of-type {\n",
              "        vertical-align: middle;\n",
              "    }\n",
              "\n",
              "    .dataframe tbody tr th {\n",
              "        vertical-align: top;\n",
              "    }\n",
              "\n",
              "    .dataframe thead th {\n",
              "        text-align: right;\n",
              "    }\n",
              "</style>\n",
              "<table border=\"1\" class=\"dataframe\">\n",
              "  <thead>\n",
              "    <tr style=\"text-align: right;\">\n",
              "      <th></th>\n",
              "      <th>InvoiceNo</th>\n",
              "      <th>StockCode</th>\n",
              "      <th>Description</th>\n",
              "      <th>Quantity</th>\n",
              "      <th>InvoiceDate</th>\n",
              "      <th>UnitPrice</th>\n",
              "      <th>CustomerID</th>\n",
              "      <th>Country</th>\n",
              "      <th>Product Type</th>\n",
              "      <th>Colour_type</th>\n",
              "    </tr>\n",
              "  </thead>\n",
              "  <tbody>\n",
              "    <tr>\n",
              "      <th>0</th>\n",
              "      <td>536365</td>\n",
              "      <td>85123A</td>\n",
              "      <td>WHITE HANGING HEART T-LIGHT HOLDER</td>\n",
              "      <td>6</td>\n",
              "      <td>12/1/2010 8:26</td>\n",
              "      <td>2.55</td>\n",
              "      <td>17850.0</td>\n",
              "      <td>United Kingdom</td>\n",
              "      <td>heart light holder</td>\n",
              "      <td>white</td>\n",
              "    </tr>\n",
              "    <tr>\n",
              "      <th>1</th>\n",
              "      <td>536365</td>\n",
              "      <td>71053</td>\n",
              "      <td>WHITE METAL LANTERN</td>\n",
              "      <td>6</td>\n",
              "      <td>12/1/2010 8:26</td>\n",
              "      <td>3.39</td>\n",
              "      <td>17850.0</td>\n",
              "      <td>United Kingdom</td>\n",
              "      <td>metal lantern</td>\n",
              "      <td>white</td>\n",
              "    </tr>\n",
              "    <tr>\n",
              "      <th>2</th>\n",
              "      <td>536365</td>\n",
              "      <td>84406B</td>\n",
              "      <td>CREAM CUPID HEARTS COAT HANGER</td>\n",
              "      <td>8</td>\n",
              "      <td>12/1/2010 8:26</td>\n",
              "      <td>2.75</td>\n",
              "      <td>17850.0</td>\n",
              "      <td>United Kingdom</td>\n",
              "      <td>cream heart coat hanger</td>\n",
              "      <td>cream</td>\n",
              "    </tr>\n",
              "    <tr>\n",
              "      <th>3</th>\n",
              "      <td>536365</td>\n",
              "      <td>84029G</td>\n",
              "      <td>KNITTED UNION FLAG HOT WATER BOTTLE</td>\n",
              "      <td>6</td>\n",
              "      <td>12/1/2010 8:26</td>\n",
              "      <td>3.39</td>\n",
              "      <td>17850.0</td>\n",
              "      <td>United Kingdom</td>\n",
              "      <td>union flag water bottle</td>\n",
              "      <td>no_color</td>\n",
              "    </tr>\n",
              "    <tr>\n",
              "      <th>4</th>\n",
              "      <td>536365</td>\n",
              "      <td>84029E</td>\n",
              "      <td>RED WOOLLY HOTTIE WHITE HEART.</td>\n",
              "      <td>6</td>\n",
              "      <td>12/1/2010 8:26</td>\n",
              "      <td>3.39</td>\n",
              "      <td>17850.0</td>\n",
              "      <td>United Kingdom</td>\n",
              "      <td>heart</td>\n",
              "      <td>red</td>\n",
              "    </tr>\n",
              "  </tbody>\n",
              "</table>\n",
              "</div>"
            ],
            "text/plain": [
              "  InvoiceNo StockCode  ...               Product Type  Colour_type\n",
              "0    536365    85123A  ...        heart light holder         white\n",
              "1    536365     71053  ...             metal lantern         white\n",
              "2    536365    84406B  ...   cream heart coat hanger         cream\n",
              "3    536365    84029G  ...   union flag water bottle      no_color\n",
              "4    536365    84029E  ...                     heart           red\n",
              "\n",
              "[5 rows x 10 columns]"
            ]
          },
          "metadata": {
            "tags": []
          },
          "execution_count": 8
        }
      ]
    },
    {
      "cell_type": "code",
      "metadata": {
        "id": "vf8AQEbJA-iV"
      },
      "source": [
        "# Dropped \"Description\"and \"InvoiceDate\" columns\n",
        "\n",
        "X = dataset.drop([\"Description\",\"InvoiceDate\"],axis=1)"
      ],
      "execution_count": 9,
      "outputs": []
    },
    {
      "cell_type": "code",
      "metadata": {
        "id": "M9V3VTPYA4I7",
        "outputId": "1afeec16-ec1c-478f-abf7-44dd080e6cf0",
        "colab": {
          "base_uri": "https://localhost:8080/",
          "height": 194
        }
      },
      "source": [
        "X.head()"
      ],
      "execution_count": 10,
      "outputs": [
        {
          "output_type": "execute_result",
          "data": {
            "text/html": [
              "<div>\n",
              "<style scoped>\n",
              "    .dataframe tbody tr th:only-of-type {\n",
              "        vertical-align: middle;\n",
              "    }\n",
              "\n",
              "    .dataframe tbody tr th {\n",
              "        vertical-align: top;\n",
              "    }\n",
              "\n",
              "    .dataframe thead th {\n",
              "        text-align: right;\n",
              "    }\n",
              "</style>\n",
              "<table border=\"1\" class=\"dataframe\">\n",
              "  <thead>\n",
              "    <tr style=\"text-align: right;\">\n",
              "      <th></th>\n",
              "      <th>InvoiceNo</th>\n",
              "      <th>StockCode</th>\n",
              "      <th>Quantity</th>\n",
              "      <th>UnitPrice</th>\n",
              "      <th>CustomerID</th>\n",
              "      <th>Country</th>\n",
              "      <th>Product Type</th>\n",
              "      <th>Colour_type</th>\n",
              "    </tr>\n",
              "  </thead>\n",
              "  <tbody>\n",
              "    <tr>\n",
              "      <th>0</th>\n",
              "      <td>536365</td>\n",
              "      <td>85123A</td>\n",
              "      <td>6</td>\n",
              "      <td>2.55</td>\n",
              "      <td>17850.0</td>\n",
              "      <td>United Kingdom</td>\n",
              "      <td>heart light holder</td>\n",
              "      <td>white</td>\n",
              "    </tr>\n",
              "    <tr>\n",
              "      <th>1</th>\n",
              "      <td>536365</td>\n",
              "      <td>71053</td>\n",
              "      <td>6</td>\n",
              "      <td>3.39</td>\n",
              "      <td>17850.0</td>\n",
              "      <td>United Kingdom</td>\n",
              "      <td>metal lantern</td>\n",
              "      <td>white</td>\n",
              "    </tr>\n",
              "    <tr>\n",
              "      <th>2</th>\n",
              "      <td>536365</td>\n",
              "      <td>84406B</td>\n",
              "      <td>8</td>\n",
              "      <td>2.75</td>\n",
              "      <td>17850.0</td>\n",
              "      <td>United Kingdom</td>\n",
              "      <td>cream heart coat hanger</td>\n",
              "      <td>cream</td>\n",
              "    </tr>\n",
              "    <tr>\n",
              "      <th>3</th>\n",
              "      <td>536365</td>\n",
              "      <td>84029G</td>\n",
              "      <td>6</td>\n",
              "      <td>3.39</td>\n",
              "      <td>17850.0</td>\n",
              "      <td>United Kingdom</td>\n",
              "      <td>union flag water bottle</td>\n",
              "      <td>no_color</td>\n",
              "    </tr>\n",
              "    <tr>\n",
              "      <th>4</th>\n",
              "      <td>536365</td>\n",
              "      <td>84029E</td>\n",
              "      <td>6</td>\n",
              "      <td>3.39</td>\n",
              "      <td>17850.0</td>\n",
              "      <td>United Kingdom</td>\n",
              "      <td>heart</td>\n",
              "      <td>red</td>\n",
              "    </tr>\n",
              "  </tbody>\n",
              "</table>\n",
              "</div>"
            ],
            "text/plain": [
              "  InvoiceNo StockCode  ...               Product Type  Colour_type\n",
              "0    536365    85123A  ...        heart light holder         white\n",
              "1    536365     71053  ...             metal lantern         white\n",
              "2    536365    84406B  ...   cream heart coat hanger         cream\n",
              "3    536365    84029G  ...   union flag water bottle      no_color\n",
              "4    536365    84029E  ...                     heart           red\n",
              "\n",
              "[5 rows x 8 columns]"
            ]
          },
          "metadata": {
            "tags": []
          },
          "execution_count": 10
        }
      ]
    },
    {
      "cell_type": "markdown",
      "metadata": {
        "id": "9Nm1zJ676Yeb"
      },
      "source": [
        "# Created a new feature name \"Revenue\"\n",
        "\n",
        "  - revenue = UnitPrice * Quantity"
      ]
    },
    {
      "cell_type": "code",
      "metadata": {
        "id": "EfuohN2Nieln",
        "outputId": "e11ed8d8-2403-4aa1-f187-ed1d67245d84",
        "colab": {
          "base_uri": "https://localhost:8080/",
          "height": 194
        }
      },
      "source": [
        "X['Revenue'] = X['UnitPrice'] * X['Quantity']\n",
        "X.head()"
      ],
      "execution_count": 11,
      "outputs": [
        {
          "output_type": "execute_result",
          "data": {
            "text/html": [
              "<div>\n",
              "<style scoped>\n",
              "    .dataframe tbody tr th:only-of-type {\n",
              "        vertical-align: middle;\n",
              "    }\n",
              "\n",
              "    .dataframe tbody tr th {\n",
              "        vertical-align: top;\n",
              "    }\n",
              "\n",
              "    .dataframe thead th {\n",
              "        text-align: right;\n",
              "    }\n",
              "</style>\n",
              "<table border=\"1\" class=\"dataframe\">\n",
              "  <thead>\n",
              "    <tr style=\"text-align: right;\">\n",
              "      <th></th>\n",
              "      <th>InvoiceNo</th>\n",
              "      <th>StockCode</th>\n",
              "      <th>Quantity</th>\n",
              "      <th>UnitPrice</th>\n",
              "      <th>CustomerID</th>\n",
              "      <th>Country</th>\n",
              "      <th>Product Type</th>\n",
              "      <th>Colour_type</th>\n",
              "      <th>Revenue</th>\n",
              "    </tr>\n",
              "  </thead>\n",
              "  <tbody>\n",
              "    <tr>\n",
              "      <th>0</th>\n",
              "      <td>536365</td>\n",
              "      <td>85123A</td>\n",
              "      <td>6</td>\n",
              "      <td>2.55</td>\n",
              "      <td>17850.0</td>\n",
              "      <td>United Kingdom</td>\n",
              "      <td>heart light holder</td>\n",
              "      <td>white</td>\n",
              "      <td>15.30</td>\n",
              "    </tr>\n",
              "    <tr>\n",
              "      <th>1</th>\n",
              "      <td>536365</td>\n",
              "      <td>71053</td>\n",
              "      <td>6</td>\n",
              "      <td>3.39</td>\n",
              "      <td>17850.0</td>\n",
              "      <td>United Kingdom</td>\n",
              "      <td>metal lantern</td>\n",
              "      <td>white</td>\n",
              "      <td>20.34</td>\n",
              "    </tr>\n",
              "    <tr>\n",
              "      <th>2</th>\n",
              "      <td>536365</td>\n",
              "      <td>84406B</td>\n",
              "      <td>8</td>\n",
              "      <td>2.75</td>\n",
              "      <td>17850.0</td>\n",
              "      <td>United Kingdom</td>\n",
              "      <td>cream heart coat hanger</td>\n",
              "      <td>cream</td>\n",
              "      <td>22.00</td>\n",
              "    </tr>\n",
              "    <tr>\n",
              "      <th>3</th>\n",
              "      <td>536365</td>\n",
              "      <td>84029G</td>\n",
              "      <td>6</td>\n",
              "      <td>3.39</td>\n",
              "      <td>17850.0</td>\n",
              "      <td>United Kingdom</td>\n",
              "      <td>union flag water bottle</td>\n",
              "      <td>no_color</td>\n",
              "      <td>20.34</td>\n",
              "    </tr>\n",
              "    <tr>\n",
              "      <th>4</th>\n",
              "      <td>536365</td>\n",
              "      <td>84029E</td>\n",
              "      <td>6</td>\n",
              "      <td>3.39</td>\n",
              "      <td>17850.0</td>\n",
              "      <td>United Kingdom</td>\n",
              "      <td>heart</td>\n",
              "      <td>red</td>\n",
              "      <td>20.34</td>\n",
              "    </tr>\n",
              "  </tbody>\n",
              "</table>\n",
              "</div>"
            ],
            "text/plain": [
              "  InvoiceNo StockCode  Quantity  ...               Product Type  Colour_type Revenue\n",
              "0    536365    85123A         6  ...        heart light holder         white   15.30\n",
              "1    536365     71053         6  ...             metal lantern         white   20.34\n",
              "2    536365    84406B         8  ...   cream heart coat hanger         cream   22.00\n",
              "3    536365    84029G         6  ...   union flag water bottle      no_color   20.34\n",
              "4    536365    84029E         6  ...                     heart           red   20.34\n",
              "\n",
              "[5 rows x 9 columns]"
            ]
          },
          "metadata": {
            "tags": []
          },
          "execution_count": 11
        }
      ]
    },
    {
      "cell_type": "code",
      "metadata": {
        "id": "jixhGKWYAvlL"
      },
      "source": [
        "# Label encoding of categorical features\n",
        "\n",
        "from sklearn import preprocessing\n",
        "label_encoder = preprocessing.LabelEncoder()\n",
        "\n",
        "for col in [\"InvoiceNo\", \"StockCode\", \"CustomerID\",\"Country\", \"Product Type\",\"Colour_type\"]:\n",
        "  X[col] = label_encoder.fit_transform(X[col])"
      ],
      "execution_count": 12,
      "outputs": []
    },
    {
      "cell_type": "code",
      "metadata": {
        "id": "jBa2_ULFBIza",
        "outputId": "4919c403-acf9-4571-c23f-7ca04f9baf3d",
        "colab": {
          "base_uri": "https://localhost:8080/",
          "height": 301
        }
      },
      "source": [
        "X.info()"
      ],
      "execution_count": 13,
      "outputs": [
        {
          "output_type": "stream",
          "text": [
            "<class 'pandas.core.frame.DataFrame'>\n",
            "Int64Index: 50000 entries, 0 to 79177\n",
            "Data columns (total 9 columns):\n",
            " #   Column        Non-Null Count  Dtype  \n",
            "---  ------        --------------  -----  \n",
            " 0   InvoiceNo     50000 non-null  int64  \n",
            " 1   StockCode     50000 non-null  int64  \n",
            " 2   Quantity      50000 non-null  int64  \n",
            " 3   UnitPrice     50000 non-null  float64\n",
            " 4   CustomerID    50000 non-null  int64  \n",
            " 5   Country       50000 non-null  int64  \n",
            " 6   Product Type  50000 non-null  int64  \n",
            " 7   Colour_type   50000 non-null  int64  \n",
            " 8   Revenue       50000 non-null  float64\n",
            "dtypes: float64(2), int64(7)\n",
            "memory usage: 3.8 MB\n"
          ],
          "name": "stdout"
        }
      ]
    },
    {
      "cell_type": "code",
      "metadata": {
        "id": "CSbwNltjPANx",
        "outputId": "fd3697f3-d96a-41d1-9eb8-e32dc2f78ad0",
        "colab": {
          "base_uri": "https://localhost:8080/",
          "height": 100
        }
      },
      "source": [
        "!pip install kmodes "
      ],
      "execution_count": null,
      "outputs": [
        {
          "output_type": "stream",
          "text": [
            "Requirement already satisfied: kmodes in /usr/local/lib/python3.6/dist-packages (0.10.2)\n",
            "Requirement already satisfied: scikit-learn>=0.19.0 in /usr/local/lib/python3.6/dist-packages (from kmodes) (0.22.2.post1)\n",
            "Requirement already satisfied: numpy>=1.10.4 in /usr/local/lib/python3.6/dist-packages (from kmodes) (1.18.5)\n",
            "Requirement already satisfied: joblib>=0.11 in /usr/local/lib/python3.6/dist-packages (from kmodes) (0.16.0)\n",
            "Requirement already satisfied: scipy>=0.13.3 in /usr/local/lib/python3.6/dist-packages (from kmodes) (1.4.1)\n"
          ],
          "name": "stdout"
        }
      ]
    },
    {
      "cell_type": "code",
      "metadata": {
        "id": "BQGa4uh7QbDT",
        "outputId": "c8d1e29d-e120-4cf5-c195-a7de5e6e525d",
        "colab": {
          "base_uri": "https://localhost:8080/",
          "height": 301
        }
      },
      "source": [
        "# Changed the data type of attributes\n",
        "\n",
        "X = X.astype('category')\n",
        "X.iloc[:, 2] = X.iloc[:, 2].astype(float)\n",
        "X.iloc[:, 3] = X.iloc[:, 3].astype(float)\n",
        "X.iloc[:, 8] = X.iloc[:, 3].astype(float)\n",
        "X.info()"
      ],
      "execution_count": 14,
      "outputs": [
        {
          "output_type": "stream",
          "text": [
            "<class 'pandas.core.frame.DataFrame'>\n",
            "Int64Index: 50000 entries, 0 to 79177\n",
            "Data columns (total 9 columns):\n",
            " #   Column        Non-Null Count  Dtype   \n",
            "---  ------        --------------  -----   \n",
            " 0   InvoiceNo     50000 non-null  category\n",
            " 1   StockCode     50000 non-null  category\n",
            " 2   Quantity      50000 non-null  float64 \n",
            " 3   UnitPrice     50000 non-null  float64 \n",
            " 4   CustomerID    50000 non-null  category\n",
            " 5   Country       50000 non-null  category\n",
            " 6   Product Type  50000 non-null  category\n",
            " 7   Colour_type   50000 non-null  category\n",
            " 8   Revenue       50000 non-null  float64 \n",
            "dtypes: category(6), float64(3)\n",
            "memory usage: 2.3 MB\n"
          ],
          "name": "stdout"
        }
      ]
    },
    {
      "cell_type": "code",
      "metadata": {
        "id": "CxGTy-AXP-ut"
      },
      "source": [
        "# Train test split of new dataframe X\n",
        "\n",
        "from sklearn.model_selection import train_test_split\n",
        "train, test = train_test_split(X, train_size=0.8, random_state = 0)"
      ],
      "execution_count": 15,
      "outputs": []
    },
    {
      "cell_type": "markdown",
      "metadata": {
        "id": "Z9jwPGMviHCq"
      },
      "source": [
        "# Cluster the similar items for new attribute cluster number, for this K-prototype clustering is used."
      ]
    },
    {
      "cell_type": "code",
      "metadata": {
        "id": "E3bQ0KFfRSyX"
      },
      "source": [
        "# Checking the optimal values of 'K'\n",
        "\n",
        "import matplotlib.pyplot as plt\n",
        "from kmodes.kprototypes import KPrototypes\n",
        "\n",
        "cost = []\n",
        "for num_clusters in list(range(2,15)):\n",
        "    kproto = KPrototypes(n_clusters=num_clusters, init='Cao')\n",
        "    kproto.fit_predict(train, categorical=[0,1,4,5,6,7])\n",
        "    cost.append(kproto.cost_)\n",
        "    labels=kproto.labels_\n",
        "plt.plot(cost)"
      ],
      "execution_count": null,
      "outputs": []
    },
    {
      "cell_type": "code",
      "metadata": {
        "id": "qLzYBzavhBMe"
      },
      "source": [
        "# New attribute cluster number is generated\n",
        "\n",
        "kproto = KPrototypes(n_clusters=3, init='Cao')\n",
        "kproto.fit_predict(train, categorical=[0,1,4,5,6])\n",
        "print(kproto.cost_)\n",
        "labels=kproto.labels_"
      ],
      "execution_count": null,
      "outputs": []
    },
    {
      "cell_type": "code",
      "metadata": {
        "id": "QAfErjhxMm-9"
      },
      "source": [
        "# Adding new attribute\n",
        "\n",
        "train[\"Cluster number\"]=labels\n",
        "train"
      ],
      "execution_count": null,
      "outputs": []
    },
    {
      "cell_type": "code",
      "metadata": {
        "id": "y4tC7AkEJCGZ"
      },
      "source": [
        "# Now added \"InvoiceDate\" in the dataframe\n",
        "\n",
        "mergedDf = train.merge(pd.DataFrame(dataset[\"InvoiceDate\"]), left_index=True, right_index=True)\n",
        "mergedDf"
      ],
      "execution_count": null,
      "outputs": []
    },
    {
      "cell_type": "markdown",
      "metadata": {
        "id": "kzFNj13qklGn"
      },
      "source": [
        "# Feature engineering of \"InvoiceDate\" column"
      ]
    },
    {
      "cell_type": "code",
      "metadata": {
        "id": "ZPfksPcrQIo6"
      },
      "source": [
        "from datetime import datetime\n",
        "\n",
        "year = []\n",
        "month = []\n",
        "day = []\n",
        "dayofweek = []\n",
        "for row in mergedDf[\"InvoiceDate\"]:\n",
        "  dt=datetime.strptime(row, '%m/%d/%Y %H:%M')\n",
        "  year.append(dt.year)\n",
        "  month.append(dt.month)\n",
        "  day.append(dt.day)\n",
        "  dayofweek.append(dt.strftime(\"%w\"))\n",
        "\n",
        "mergedDf['Year']=year\n",
        "mergedDf[\"Month\"]=month\n",
        "mergedDf[\"Day\"]=day\n",
        "mergedDf['DayOfWeek']=dayofweek\n",
        "mergedDf.drop(['InvoiceDate'],axis=1, inplace=True)\n",
        "mergedDf.head()"
      ],
      "execution_count": null,
      "outputs": []
    },
    {
      "cell_type": "code",
      "metadata": {
        "id": "HvQNyGdtJT7G"
      },
      "source": [
        "mergedDf.to_csv('/content/drive/My Drive/Academic projects/Supply Chain Analytics/merfedDf.csv')"
      ],
      "execution_count": null,
      "outputs": []
    },
    {
      "cell_type": "code",
      "metadata": {
        "id": "v8Q6vPifSduN",
        "outputId": "434c1fe2-6eb5-4206-db46-3cc4ecb892f1",
        "colab": {
          "base_uri": "https://localhost:8080/",
          "height": 194
        }
      },
      "source": [
        "mergedDf = pd.read_csv('/content/drive/My Drive/Academic projects/Supply Chain Analytics/merfedDf.csv')\n",
        "mergedDf.drop(['Unnamed: 0'], axis =1, inplace=True)\n",
        "mergedDf.head()"
      ],
      "execution_count": 16,
      "outputs": [
        {
          "output_type": "execute_result",
          "data": {
            "text/html": [
              "<div>\n",
              "<style scoped>\n",
              "    .dataframe tbody tr th:only-of-type {\n",
              "        vertical-align: middle;\n",
              "    }\n",
              "\n",
              "    .dataframe tbody tr th {\n",
              "        vertical-align: top;\n",
              "    }\n",
              "\n",
              "    .dataframe thead th {\n",
              "        text-align: right;\n",
              "    }\n",
              "</style>\n",
              "<table border=\"1\" class=\"dataframe\">\n",
              "  <thead>\n",
              "    <tr style=\"text-align: right;\">\n",
              "      <th></th>\n",
              "      <th>InvoiceNo</th>\n",
              "      <th>StockCode</th>\n",
              "      <th>Quantity</th>\n",
              "      <th>UnitPrice</th>\n",
              "      <th>CustomerID</th>\n",
              "      <th>Country</th>\n",
              "      <th>Product Type</th>\n",
              "      <th>Colour_type</th>\n",
              "      <th>Revenue</th>\n",
              "      <th>Cluster number</th>\n",
              "      <th>Year</th>\n",
              "      <th>Month</th>\n",
              "      <th>Day</th>\n",
              "      <th>DayOfWeek</th>\n",
              "    </tr>\n",
              "  </thead>\n",
              "  <tbody>\n",
              "    <tr>\n",
              "      <th>0</th>\n",
              "      <td>1018</td>\n",
              "      <td>2277</td>\n",
              "      <td>6.0</td>\n",
              "      <td>4.25</td>\n",
              "      <td>997</td>\n",
              "      <td>25</td>\n",
              "      <td>0</td>\n",
              "      <td>7</td>\n",
              "      <td>4.25</td>\n",
              "      <td>2</td>\n",
              "      <td>2010</td>\n",
              "      <td>12</td>\n",
              "      <td>14</td>\n",
              "      <td>2</td>\n",
              "    </tr>\n",
              "    <tr>\n",
              "      <th>1</th>\n",
              "      <td>888</td>\n",
              "      <td>1611</td>\n",
              "      <td>1.0</td>\n",
              "      <td>8.50</td>\n",
              "      <td>1228</td>\n",
              "      <td>25</td>\n",
              "      <td>2151</td>\n",
              "      <td>3</td>\n",
              "      <td>8.50</td>\n",
              "      <td>2</td>\n",
              "      <td>2010</td>\n",
              "      <td>12</td>\n",
              "      <td>12</td>\n",
              "      <td>0</td>\n",
              "    </tr>\n",
              "    <tr>\n",
              "      <th>2</th>\n",
              "      <td>2254</td>\n",
              "      <td>2107</td>\n",
              "      <td>1.0</td>\n",
              "      <td>3.75</td>\n",
              "      <td>1363</td>\n",
              "      <td>25</td>\n",
              "      <td>0</td>\n",
              "      <td>7</td>\n",
              "      <td>3.75</td>\n",
              "      <td>2</td>\n",
              "      <td>2011</td>\n",
              "      <td>1</td>\n",
              "      <td>27</td>\n",
              "      <td>4</td>\n",
              "    </tr>\n",
              "    <tr>\n",
              "      <th>3</th>\n",
              "      <td>1749</td>\n",
              "      <td>2189</td>\n",
              "      <td>16.0</td>\n",
              "      <td>0.65</td>\n",
              "      <td>686</td>\n",
              "      <td>25</td>\n",
              "      <td>903</td>\n",
              "      <td>7</td>\n",
              "      <td>0.65</td>\n",
              "      <td>2</td>\n",
              "      <td>2011</td>\n",
              "      <td>1</td>\n",
              "      <td>12</td>\n",
              "      <td>3</td>\n",
              "    </tr>\n",
              "    <tr>\n",
              "      <th>4</th>\n",
              "      <td>1607</td>\n",
              "      <td>574</td>\n",
              "      <td>1.0</td>\n",
              "      <td>4.95</td>\n",
              "      <td>961</td>\n",
              "      <td>25</td>\n",
              "      <td>1267</td>\n",
              "      <td>7</td>\n",
              "      <td>4.95</td>\n",
              "      <td>2</td>\n",
              "      <td>2011</td>\n",
              "      <td>1</td>\n",
              "      <td>9</td>\n",
              "      <td>0</td>\n",
              "    </tr>\n",
              "  </tbody>\n",
              "</table>\n",
              "</div>"
            ],
            "text/plain": [
              "   InvoiceNo  StockCode  Quantity  UnitPrice  ...  Year  Month  Day  DayOfWeek\n",
              "0       1018       2277       6.0       4.25  ...  2010     12   14          2\n",
              "1        888       1611       1.0       8.50  ...  2010     12   12          0\n",
              "2       2254       2107       1.0       3.75  ...  2011      1   27          4\n",
              "3       1749       2189      16.0       0.65  ...  2011      1   12          3\n",
              "4       1607        574       1.0       4.95  ...  2011      1    9          0\n",
              "\n",
              "[5 rows x 14 columns]"
            ]
          },
          "metadata": {
            "tags": []
          },
          "execution_count": 16
        }
      ]
    },
    {
      "cell_type": "markdown",
      "metadata": {
        "id": "a4TMLK4PkwsW"
      },
      "source": [
        "# Classification of test data into number of clusters\n",
        "\n",
        "- Cluster numbers were treated as a target variable as the objective\n",
        "was to match the records from the validation and testing sets with the clusters from the training\n",
        "set.\n"
      ]
    },
    {
      "cell_type": "code",
      "metadata": {
        "id": "tMIWz1rUBJgV"
      },
      "source": [
        "# Splitting of merdedDF dataframe into traina nd validation\n",
        "\n",
        "from sklearn.model_selection import train_test_split\n",
        "train_, val_= train_test_split(mergedDf, train_size = 0.8, random_state = 0)"
      ],
      "execution_count": null,
      "outputs": []
    },
    {
      "cell_type": "code",
      "metadata": {
        "id": "CY9FDoIYCdYV"
      },
      "source": [
        "train_y=train_[\"Cluster number\"]\n",
        "train_x=train_.drop(['Cluster number'],axis=1,inplace=False)\n",
        "\n",
        "val_y=val_[\"Cluster number\"]\n",
        "val_x=val_.drop(['Cluster number'],axis=1,inplace=False)"
      ],
      "execution_count": null,
      "outputs": []
    },
    {
      "cell_type": "markdown",
      "metadata": {
        "id": "DEp6jNIbUc0W"
      },
      "source": [
        "For classification\n",
        "  - Linear SVC is used. and it is giving best result among other machine leaning algorithms."
      ]
    },
    {
      "cell_type": "code",
      "metadata": {
        "id": "4YcqNO23YIZo"
      },
      "source": [
        "from sklearn.svm import LinearSVC "
      ],
      "execution_count": null,
      "outputs": []
    },
    {
      "cell_type": "code",
      "metadata": {
        "id": "wYNnffP_TMiy"
      },
      "source": [
        "model1 = LinearSVC()\n",
        "model1.fit(train_x,train_y)"
      ],
      "execution_count": 1,
      "outputs": []
    },
    {
      "cell_type": "code",
      "metadata": {
        "id": "RRrOhCUyTvAv"
      },
      "source": [
        "# validating on test data\n",
        "\n",
        "pred_y = model1.predict(val_x)"
      ],
      "execution_count": null,
      "outputs": []
    },
    {
      "cell_type": "code",
      "metadata": {
        "id": "br80SX9dVOsY"
      },
      "source": [
        "# Preformance evaluation\n",
        "\n",
        "from sklearn.metrics import accuracy_score\n",
        "accuracy_score(val_y,pred_y)"
      ],
      "execution_count": 2,
      "outputs": []
    },
    {
      "cell_type": "code",
      "metadata": {
        "id": "4jmE8vWWXOIn",
        "outputId": "fc411b7a-4bc5-46dd-de26-525a936d71f1",
        "colab": {
          "base_uri": "https://localhost:8080/",
          "height": 405
        }
      },
      "source": [
        "# Adding \"InvoiceDate\" in test data\n",
        "\n",
        "test_Df = test.merge(pd.DataFrame(dataset[\"InvoiceDate\"]), left_index=True, right_index=True)\n",
        "test_Df"
      ],
      "execution_count": null,
      "outputs": [
        {
          "output_type": "execute_result",
          "data": {
            "text/html": [
              "<div>\n",
              "<style scoped>\n",
              "    .dataframe tbody tr th:only-of-type {\n",
              "        vertical-align: middle;\n",
              "    }\n",
              "\n",
              "    .dataframe tbody tr th {\n",
              "        vertical-align: top;\n",
              "    }\n",
              "\n",
              "    .dataframe thead th {\n",
              "        text-align: right;\n",
              "    }\n",
              "</style>\n",
              "<table border=\"1\" class=\"dataframe\">\n",
              "  <thead>\n",
              "    <tr style=\"text-align: right;\">\n",
              "      <th></th>\n",
              "      <th>InvoiceNo</th>\n",
              "      <th>StockCode</th>\n",
              "      <th>Quantity</th>\n",
              "      <th>UnitPrice</th>\n",
              "      <th>CustomerID</th>\n",
              "      <th>Country</th>\n",
              "      <th>Product Type</th>\n",
              "      <th>Colour_type</th>\n",
              "      <th>Revenue</th>\n",
              "      <th>InvoiceDate</th>\n",
              "    </tr>\n",
              "  </thead>\n",
              "  <tbody>\n",
              "    <tr>\n",
              "      <th>17873</th>\n",
              "      <td>617</td>\n",
              "      <td>729</td>\n",
              "      <td>1.0</td>\n",
              "      <td>1.25</td>\n",
              "      <td>1158</td>\n",
              "      <td>25</td>\n",
              "      <td>2158</td>\n",
              "      <td>7</td>\n",
              "      <td>1.25</td>\n",
              "      <td>12/8/2010 12:46</td>\n",
              "    </tr>\n",
              "    <tr>\n",
              "      <th>29644</th>\n",
              "      <td>985</td>\n",
              "      <td>1181</td>\n",
              "      <td>10.0</td>\n",
              "      <td>1.95</td>\n",
              "      <td>225</td>\n",
              "      <td>25</td>\n",
              "      <td>71</td>\n",
              "      <td>7</td>\n",
              "      <td>1.95</td>\n",
              "      <td>12/14/2010 12:22</td>\n",
              "    </tr>\n",
              "    <tr>\n",
              "      <th>73585</th>\n",
              "      <td>2238</td>\n",
              "      <td>1608</td>\n",
              "      <td>1.0</td>\n",
              "      <td>7.95</td>\n",
              "      <td>551</td>\n",
              "      <td>25</td>\n",
              "      <td>1793</td>\n",
              "      <td>5</td>\n",
              "      <td>7.95</td>\n",
              "      <td>1/27/2011 12:40</td>\n",
              "    </tr>\n",
              "    <tr>\n",
              "      <th>39495</th>\n",
              "      <td>1339</td>\n",
              "      <td>197</td>\n",
              "      <td>1.0</td>\n",
              "      <td>2.55</td>\n",
              "      <td>726</td>\n",
              "      <td>25</td>\n",
              "      <td>917</td>\n",
              "      <td>7</td>\n",
              "      <td>2.55</td>\n",
              "      <td>12/20/2010 16:08</td>\n",
              "    </tr>\n",
              "    <tr>\n",
              "      <th>69859</th>\n",
              "      <td>2106</td>\n",
              "      <td>121</td>\n",
              "      <td>2.0</td>\n",
              "      <td>3.25</td>\n",
              "      <td>409</td>\n",
              "      <td>25</td>\n",
              "      <td>1763</td>\n",
              "      <td>11</td>\n",
              "      <td>3.25</td>\n",
              "      <td>1/24/2011 16:05</td>\n",
              "    </tr>\n",
              "    <tr>\n",
              "      <th>...</th>\n",
              "      <td>...</td>\n",
              "      <td>...</td>\n",
              "      <td>...</td>\n",
              "      <td>...</td>\n",
              "      <td>...</td>\n",
              "      <td>...</td>\n",
              "      <td>...</td>\n",
              "      <td>...</td>\n",
              "      <td>...</td>\n",
              "      <td>...</td>\n",
              "    </tr>\n",
              "    <tr>\n",
              "      <th>38320</th>\n",
              "      <td>1300</td>\n",
              "      <td>1444</td>\n",
              "      <td>3.0</td>\n",
              "      <td>1.25</td>\n",
              "      <td>1099</td>\n",
              "      <td>25</td>\n",
              "      <td>2213</td>\n",
              "      <td>1</td>\n",
              "      <td>1.25</td>\n",
              "      <td>12/20/2010 11:08</td>\n",
              "    </tr>\n",
              "    <tr>\n",
              "      <th>44202</th>\n",
              "      <td>1447</td>\n",
              "      <td>2035</td>\n",
              "      <td>2.0</td>\n",
              "      <td>2.10</td>\n",
              "      <td>692</td>\n",
              "      <td>25</td>\n",
              "      <td>1254</td>\n",
              "      <td>7</td>\n",
              "      <td>2.10</td>\n",
              "      <td>1/5/2011 11:41</td>\n",
              "    </tr>\n",
              "    <tr>\n",
              "      <th>75671</th>\n",
              "      <td>2317</td>\n",
              "      <td>216</td>\n",
              "      <td>4.0</td>\n",
              "      <td>1.95</td>\n",
              "      <td>216</td>\n",
              "      <td>25</td>\n",
              "      <td>197</td>\n",
              "      <td>7</td>\n",
              "      <td>1.95</td>\n",
              "      <td>1/30/2011 13:48</td>\n",
              "    </tr>\n",
              "    <tr>\n",
              "      <th>58928</th>\n",
              "      <td>1855</td>\n",
              "      <td>1031</td>\n",
              "      <td>3.0</td>\n",
              "      <td>2.10</td>\n",
              "      <td>1225</td>\n",
              "      <td>25</td>\n",
              "      <td>1084</td>\n",
              "      <td>13</td>\n",
              "      <td>2.10</td>\n",
              "      <td>1/16/2011 16:23</td>\n",
              "    </tr>\n",
              "    <tr>\n",
              "      <th>3357</th>\n",
              "      <td>144</td>\n",
              "      <td>1470</td>\n",
              "      <td>12.0</td>\n",
              "      <td>2.95</td>\n",
              "      <td>760</td>\n",
              "      <td>25</td>\n",
              "      <td>1712</td>\n",
              "      <td>5</td>\n",
              "      <td>2.95</td>\n",
              "      <td>12/2/2010 10:39</td>\n",
              "    </tr>\n",
              "  </tbody>\n",
              "</table>\n",
              "<p>10000 rows × 10 columns</p>\n",
              "</div>"
            ],
            "text/plain": [
              "      InvoiceNo StockCode  Quantity  ...  Colour_type Revenue       InvoiceDate\n",
              "17873       617       729       1.0  ...            7    1.25   12/8/2010 12:46\n",
              "29644       985      1181      10.0  ...            7    1.95  12/14/2010 12:22\n",
              "73585      2238      1608       1.0  ...            5    7.95   1/27/2011 12:40\n",
              "39495      1339       197       1.0  ...            7    2.55  12/20/2010 16:08\n",
              "69859      2106       121       2.0  ...           11    3.25   1/24/2011 16:05\n",
              "...         ...       ...       ...  ...          ...     ...               ...\n",
              "38320      1300      1444       3.0  ...            1    1.25  12/20/2010 11:08\n",
              "44202      1447      2035       2.0  ...            7    2.10    1/5/2011 11:41\n",
              "75671      2317       216       4.0  ...            7    1.95   1/30/2011 13:48\n",
              "58928      1855      1031       3.0  ...           13    2.10   1/16/2011 16:23\n",
              "3357        144      1470      12.0  ...            5    2.95   12/2/2010 10:39\n",
              "\n",
              "[10000 rows x 10 columns]"
            ]
          },
          "metadata": {
            "tags": []
          },
          "execution_count": 192
        }
      ]
    },
    {
      "cell_type": "code",
      "metadata": {
        "id": "BwsDeF7mXqVx",
        "outputId": "3f18a7c2-207b-4ea1-8e11-fabfa84e9049",
        "colab": {
          "base_uri": "https://localhost:8080/",
          "height": 204
        }
      },
      "source": [
        "# Feature engineering of \"InvoiceDate\" column\n",
        "\n",
        "from datetime import datetime\n",
        "\n",
        "year = []\n",
        "month = []\n",
        "day = []\n",
        "dayofweek = []\n",
        "for row in test_Df[\"InvoiceDate\"]:\n",
        "  dt=datetime.strptime(row, '%m/%d/%Y %H:%M')\n",
        "  year.append(dt.year)\n",
        "  month.append(dt.month)\n",
        "  day.append(dt.day)\n",
        "  dayofweek.append(dt.strftime(\"%w\"))\n",
        "\n",
        "test_Df['Year']=year\n",
        "test_Df[\"Month\"]=month\n",
        "test_Df[\"Day\"]=day\n",
        "test_Df['DayOfWeek']=dayofweek\n",
        "test_Df.drop(['InvoiceDate'],axis=1, inplace=True)\n",
        "\n",
        "test_Df=test_Df.reset_index()\n",
        "test_Df.drop([\"index\"],axis=1, inplace = True)\n",
        "test_Df.head()\n",
        "\n",
        "test_Df.head()"
      ],
      "execution_count": null,
      "outputs": [
        {
          "output_type": "execute_result",
          "data": {
            "text/html": [
              "<div>\n",
              "<style scoped>\n",
              "    .dataframe tbody tr th:only-of-type {\n",
              "        vertical-align: middle;\n",
              "    }\n",
              "\n",
              "    .dataframe tbody tr th {\n",
              "        vertical-align: top;\n",
              "    }\n",
              "\n",
              "    .dataframe thead th {\n",
              "        text-align: right;\n",
              "    }\n",
              "</style>\n",
              "<table border=\"1\" class=\"dataframe\">\n",
              "  <thead>\n",
              "    <tr style=\"text-align: right;\">\n",
              "      <th></th>\n",
              "      <th>InvoiceNo</th>\n",
              "      <th>StockCode</th>\n",
              "      <th>Quantity</th>\n",
              "      <th>UnitPrice</th>\n",
              "      <th>CustomerID</th>\n",
              "      <th>Country</th>\n",
              "      <th>Product Type</th>\n",
              "      <th>Colour_type</th>\n",
              "      <th>Revenue</th>\n",
              "      <th>Year</th>\n",
              "      <th>Month</th>\n",
              "      <th>Day</th>\n",
              "      <th>DayOfWeek</th>\n",
              "    </tr>\n",
              "  </thead>\n",
              "  <tbody>\n",
              "    <tr>\n",
              "      <th>17873</th>\n",
              "      <td>617</td>\n",
              "      <td>729</td>\n",
              "      <td>1.0</td>\n",
              "      <td>1.25</td>\n",
              "      <td>1158</td>\n",
              "      <td>25</td>\n",
              "      <td>2158</td>\n",
              "      <td>7</td>\n",
              "      <td>1.25</td>\n",
              "      <td>2010</td>\n",
              "      <td>12</td>\n",
              "      <td>8</td>\n",
              "      <td>3</td>\n",
              "    </tr>\n",
              "    <tr>\n",
              "      <th>29644</th>\n",
              "      <td>985</td>\n",
              "      <td>1181</td>\n",
              "      <td>10.0</td>\n",
              "      <td>1.95</td>\n",
              "      <td>225</td>\n",
              "      <td>25</td>\n",
              "      <td>71</td>\n",
              "      <td>7</td>\n",
              "      <td>1.95</td>\n",
              "      <td>2010</td>\n",
              "      <td>12</td>\n",
              "      <td>14</td>\n",
              "      <td>2</td>\n",
              "    </tr>\n",
              "    <tr>\n",
              "      <th>73585</th>\n",
              "      <td>2238</td>\n",
              "      <td>1608</td>\n",
              "      <td>1.0</td>\n",
              "      <td>7.95</td>\n",
              "      <td>551</td>\n",
              "      <td>25</td>\n",
              "      <td>1793</td>\n",
              "      <td>5</td>\n",
              "      <td>7.95</td>\n",
              "      <td>2011</td>\n",
              "      <td>1</td>\n",
              "      <td>27</td>\n",
              "      <td>4</td>\n",
              "    </tr>\n",
              "    <tr>\n",
              "      <th>39495</th>\n",
              "      <td>1339</td>\n",
              "      <td>197</td>\n",
              "      <td>1.0</td>\n",
              "      <td>2.55</td>\n",
              "      <td>726</td>\n",
              "      <td>25</td>\n",
              "      <td>917</td>\n",
              "      <td>7</td>\n",
              "      <td>2.55</td>\n",
              "      <td>2010</td>\n",
              "      <td>12</td>\n",
              "      <td>20</td>\n",
              "      <td>1</td>\n",
              "    </tr>\n",
              "    <tr>\n",
              "      <th>69859</th>\n",
              "      <td>2106</td>\n",
              "      <td>121</td>\n",
              "      <td>2.0</td>\n",
              "      <td>3.25</td>\n",
              "      <td>409</td>\n",
              "      <td>25</td>\n",
              "      <td>1763</td>\n",
              "      <td>11</td>\n",
              "      <td>3.25</td>\n",
              "      <td>2011</td>\n",
              "      <td>1</td>\n",
              "      <td>24</td>\n",
              "      <td>1</td>\n",
              "    </tr>\n",
              "  </tbody>\n",
              "</table>\n",
              "</div>"
            ],
            "text/plain": [
              "      InvoiceNo StockCode  Quantity  UnitPrice  ...  Year Month Day DayOfWeek\n",
              "17873       617       729       1.0       1.25  ...  2010    12   8         3\n",
              "29644       985      1181      10.0       1.95  ...  2010    12  14         2\n",
              "73585      2238      1608       1.0       7.95  ...  2011     1  27         4\n",
              "39495      1339       197       1.0       2.55  ...  2010    12  20         1\n",
              "69859      2106       121       2.0       3.25  ...  2011     1  24         1\n",
              "\n",
              "[5 rows x 13 columns]"
            ]
          },
          "metadata": {
            "tags": []
          },
          "execution_count": 193
        }
      ]
    },
    {
      "cell_type": "code",
      "metadata": {
        "id": "ZnKEbyV4Zj4K",
        "outputId": "91b09bf2-dbbe-490a-83eb-2f50782134ad",
        "colab": {
          "base_uri": "https://localhost:8080/",
          "height": 419
        }
      },
      "source": [
        "# Prediction of cluster_number on test data\n",
        "\n",
        "test_Df['Cluster number'] = model1.predict(test_Df)\n",
        "test_Df "
      ],
      "execution_count": null,
      "outputs": [
        {
          "output_type": "execute_result",
          "data": {
            "text/html": [
              "<div>\n",
              "<style scoped>\n",
              "    .dataframe tbody tr th:only-of-type {\n",
              "        vertical-align: middle;\n",
              "    }\n",
              "\n",
              "    .dataframe tbody tr th {\n",
              "        vertical-align: top;\n",
              "    }\n",
              "\n",
              "    .dataframe thead th {\n",
              "        text-align: right;\n",
              "    }\n",
              "</style>\n",
              "<table border=\"1\" class=\"dataframe\">\n",
              "  <thead>\n",
              "    <tr style=\"text-align: right;\">\n",
              "      <th></th>\n",
              "      <th>InvoiceNo</th>\n",
              "      <th>StockCode</th>\n",
              "      <th>Quantity</th>\n",
              "      <th>UnitPrice</th>\n",
              "      <th>CustomerID</th>\n",
              "      <th>Country</th>\n",
              "      <th>Product Type</th>\n",
              "      <th>Colour_type</th>\n",
              "      <th>Revenue</th>\n",
              "      <th>Year</th>\n",
              "      <th>Month</th>\n",
              "      <th>Day</th>\n",
              "      <th>DayOfWeek</th>\n",
              "      <th>Cluster number</th>\n",
              "    </tr>\n",
              "  </thead>\n",
              "  <tbody>\n",
              "    <tr>\n",
              "      <th>0</th>\n",
              "      <td>617</td>\n",
              "      <td>729</td>\n",
              "      <td>1.0</td>\n",
              "      <td>1.25</td>\n",
              "      <td>1158</td>\n",
              "      <td>25</td>\n",
              "      <td>2158</td>\n",
              "      <td>7</td>\n",
              "      <td>1.25</td>\n",
              "      <td>2010</td>\n",
              "      <td>12</td>\n",
              "      <td>8</td>\n",
              "      <td>3</td>\n",
              "      <td>2</td>\n",
              "    </tr>\n",
              "    <tr>\n",
              "      <th>1</th>\n",
              "      <td>985</td>\n",
              "      <td>1181</td>\n",
              "      <td>10.0</td>\n",
              "      <td>1.95</td>\n",
              "      <td>225</td>\n",
              "      <td>25</td>\n",
              "      <td>71</td>\n",
              "      <td>7</td>\n",
              "      <td>1.95</td>\n",
              "      <td>2010</td>\n",
              "      <td>12</td>\n",
              "      <td>14</td>\n",
              "      <td>2</td>\n",
              "      <td>2</td>\n",
              "    </tr>\n",
              "    <tr>\n",
              "      <th>2</th>\n",
              "      <td>2238</td>\n",
              "      <td>1608</td>\n",
              "      <td>1.0</td>\n",
              "      <td>7.95</td>\n",
              "      <td>551</td>\n",
              "      <td>25</td>\n",
              "      <td>1793</td>\n",
              "      <td>5</td>\n",
              "      <td>7.95</td>\n",
              "      <td>2011</td>\n",
              "      <td>1</td>\n",
              "      <td>27</td>\n",
              "      <td>4</td>\n",
              "      <td>2</td>\n",
              "    </tr>\n",
              "    <tr>\n",
              "      <th>3</th>\n",
              "      <td>1339</td>\n",
              "      <td>197</td>\n",
              "      <td>1.0</td>\n",
              "      <td>2.55</td>\n",
              "      <td>726</td>\n",
              "      <td>25</td>\n",
              "      <td>917</td>\n",
              "      <td>7</td>\n",
              "      <td>2.55</td>\n",
              "      <td>2010</td>\n",
              "      <td>12</td>\n",
              "      <td>20</td>\n",
              "      <td>1</td>\n",
              "      <td>2</td>\n",
              "    </tr>\n",
              "    <tr>\n",
              "      <th>4</th>\n",
              "      <td>2106</td>\n",
              "      <td>121</td>\n",
              "      <td>2.0</td>\n",
              "      <td>3.25</td>\n",
              "      <td>409</td>\n",
              "      <td>25</td>\n",
              "      <td>1763</td>\n",
              "      <td>11</td>\n",
              "      <td>3.25</td>\n",
              "      <td>2011</td>\n",
              "      <td>1</td>\n",
              "      <td>24</td>\n",
              "      <td>1</td>\n",
              "      <td>2</td>\n",
              "    </tr>\n",
              "    <tr>\n",
              "      <th>...</th>\n",
              "      <td>...</td>\n",
              "      <td>...</td>\n",
              "      <td>...</td>\n",
              "      <td>...</td>\n",
              "      <td>...</td>\n",
              "      <td>...</td>\n",
              "      <td>...</td>\n",
              "      <td>...</td>\n",
              "      <td>...</td>\n",
              "      <td>...</td>\n",
              "      <td>...</td>\n",
              "      <td>...</td>\n",
              "      <td>...</td>\n",
              "      <td>...</td>\n",
              "    </tr>\n",
              "    <tr>\n",
              "      <th>9995</th>\n",
              "      <td>1300</td>\n",
              "      <td>1444</td>\n",
              "      <td>3.0</td>\n",
              "      <td>1.25</td>\n",
              "      <td>1099</td>\n",
              "      <td>25</td>\n",
              "      <td>2213</td>\n",
              "      <td>1</td>\n",
              "      <td>1.25</td>\n",
              "      <td>2010</td>\n",
              "      <td>12</td>\n",
              "      <td>20</td>\n",
              "      <td>1</td>\n",
              "      <td>2</td>\n",
              "    </tr>\n",
              "    <tr>\n",
              "      <th>9996</th>\n",
              "      <td>1447</td>\n",
              "      <td>2035</td>\n",
              "      <td>2.0</td>\n",
              "      <td>2.10</td>\n",
              "      <td>692</td>\n",
              "      <td>25</td>\n",
              "      <td>1254</td>\n",
              "      <td>7</td>\n",
              "      <td>2.10</td>\n",
              "      <td>2011</td>\n",
              "      <td>1</td>\n",
              "      <td>5</td>\n",
              "      <td>3</td>\n",
              "      <td>2</td>\n",
              "    </tr>\n",
              "    <tr>\n",
              "      <th>9997</th>\n",
              "      <td>2317</td>\n",
              "      <td>216</td>\n",
              "      <td>4.0</td>\n",
              "      <td>1.95</td>\n",
              "      <td>216</td>\n",
              "      <td>25</td>\n",
              "      <td>197</td>\n",
              "      <td>7</td>\n",
              "      <td>1.95</td>\n",
              "      <td>2011</td>\n",
              "      <td>1</td>\n",
              "      <td>30</td>\n",
              "      <td>0</td>\n",
              "      <td>2</td>\n",
              "    </tr>\n",
              "    <tr>\n",
              "      <th>9998</th>\n",
              "      <td>1855</td>\n",
              "      <td>1031</td>\n",
              "      <td>3.0</td>\n",
              "      <td>2.10</td>\n",
              "      <td>1225</td>\n",
              "      <td>25</td>\n",
              "      <td>1084</td>\n",
              "      <td>13</td>\n",
              "      <td>2.10</td>\n",
              "      <td>2011</td>\n",
              "      <td>1</td>\n",
              "      <td>16</td>\n",
              "      <td>0</td>\n",
              "      <td>2</td>\n",
              "    </tr>\n",
              "    <tr>\n",
              "      <th>9999</th>\n",
              "      <td>144</td>\n",
              "      <td>1470</td>\n",
              "      <td>12.0</td>\n",
              "      <td>2.95</td>\n",
              "      <td>760</td>\n",
              "      <td>25</td>\n",
              "      <td>1712</td>\n",
              "      <td>5</td>\n",
              "      <td>2.95</td>\n",
              "      <td>2010</td>\n",
              "      <td>12</td>\n",
              "      <td>2</td>\n",
              "      <td>4</td>\n",
              "      <td>2</td>\n",
              "    </tr>\n",
              "  </tbody>\n",
              "</table>\n",
              "<p>10000 rows × 14 columns</p>\n",
              "</div>"
            ],
            "text/plain": [
              "     InvoiceNo StockCode  Quantity  ...  Day DayOfWeek Cluster number\n",
              "0          617       729       1.0  ...    8         3              2\n",
              "1          985      1181      10.0  ...   14         2              2\n",
              "2         2238      1608       1.0  ...   27         4              2\n",
              "3         1339       197       1.0  ...   20         1              2\n",
              "4         2106       121       2.0  ...   24         1              2\n",
              "...        ...       ...       ...  ...  ...       ...            ...\n",
              "9995      1300      1444       3.0  ...   20         1              2\n",
              "9996      1447      2035       2.0  ...    5         3              2\n",
              "9997      2317       216       4.0  ...   30         0              2\n",
              "9998      1855      1031       3.0  ...   16         0              2\n",
              "9999       144      1470      12.0  ...    2         4              2\n",
              "\n",
              "[10000 rows x 14 columns]"
            ]
          },
          "metadata": {
            "tags": []
          },
          "execution_count": 195
        }
      ]
    },
    {
      "cell_type": "markdown",
      "metadata": {
        "id": "ak7tnOPcdOX2"
      },
      "source": [
        "# Prediction of \"Quantity\" column for the products demands"
      ]
    },
    {
      "cell_type": "code",
      "metadata": {
        "id": "Bq3hL1hRfEY3"
      },
      "source": [
        "train_y=train_[\"Quantity\"].astype('int')\n",
        "train_x=train_.drop(['Quantity'], axis=1,inplace=False)\n",
        "\n",
        "test_Df_y=test_Df[\"Quantity\"].astype('int')\n",
        "test_Df_x=test_Df.drop(['Quantity'],axis=1,inplace=False)"
      ],
      "execution_count": null,
      "outputs": []
    },
    {
      "cell_type": "markdown",
      "metadata": {
        "id": "d54cHiQnKU9T"
      },
      "source": [
        "Random Forest Classifier"
      ]
    },
    {
      "cell_type": "code",
      "metadata": {
        "id": "Sp7bdYaKc9d5"
      },
      "source": [
        "from sklearn.ensemble import RandomForestClassifier\n",
        "\n",
        "clf = RandomForestClassifier(bootstrap=True,ccp_alpha=0.0,\n",
        "                                                   max_depth=None,\n",
        "                                                   max_features='auto',\n",
        "                                                   max_leaf_nodes=None,\n",
        "                                                   max_samples=None,\n",
        "                                                   min_impurity_decrease=0.0,\n",
        "                                                   min_impurity_split=None,\n",
        "                                                   min_samples_leaf=1,\n",
        "                                                   min_samples_split=2,\n",
        "                                                   min_weight_fraction_leaf=0.0,\n",
        "                                                   n_estimators=100,\n",
        "                                                   n_jobs=None,)\n",
        "clf.fit(train_x, train_y)"
      ],
      "execution_count": null,
      "outputs": []
    },
    {
      "cell_type": "code",
      "metadata": {
        "id": "XVEYFth2dGl0"
      },
      "source": [
        "prediction_test = clf.predict(test_Df_x)\n",
        "prediction_test"
      ],
      "execution_count": null,
      "outputs": []
    },
    {
      "cell_type": "code",
      "metadata": {
        "id": "LNFpJ-LgIIGB"
      },
      "source": [
        "from sklearn.metrics import f1_score\n",
        "f1_score(test_Df_y, prediction_test, average='micro')"
      ],
      "execution_count": null,
      "outputs": []
    },
    {
      "cell_type": "code",
      "metadata": {
        "id": "NNsEtFPlILUs"
      },
      "source": [
        "accuracy_score(test_Df_y, prediction_test)"
      ],
      "execution_count": 1,
      "outputs": []
    },
    {
      "cell_type": "code",
      "metadata": {
        "id": "qO6PwQIdpJo9",
        "outputId": "296930a8-cc0c-4a59-eab0-5aaca56c4ccc",
        "colab": {
          "base_uri": "https://localhost:8080/",
          "height": 709
        }
      },
      "source": [
        "# Hyperparameter tuning of RAndom forest algorithm\n",
        "\n",
        "from sklearn.model_selection import RandomizedSearchCV\n",
        "from sklearn.ensemble import RandomForestRegressor\n",
        "from pprint import pprint\n",
        "import numpy as np\n",
        "\n",
        "\n",
        "# Number of trees in random forest\n",
        "n_estimators = [int(x) for x in np.linspace(start = 200, stop = 2000, num = 10)]\n",
        "# Number of features to consider at every split\n",
        "max_features = ['auto', 'sqrt']\n",
        "# Maximum number of levels in tree\n",
        "max_depth = [int(x) for x in np.linspace(10, 110, num = 11)]\n",
        "max_depth.append(None)\n",
        "# Minimum number of samples required to split a node\n",
        "min_samples_split = [2, 5, 10]\n",
        "# Minimum number of samples required at each leaf node\n",
        "min_samples_leaf = [1, 2, 4]\n",
        "# Method of selecting samples for training each tree\n",
        "bootstrap = [True, False]\n",
        "# Create the random grid\n",
        "random_grid = {'n_estimators': n_estimators,\n",
        "               'max_features': max_features,\n",
        "               'max_depth': max_depth,\n",
        "               'min_samples_split': min_samples_split,\n",
        "               'min_samples_leaf': min_samples_leaf,\n",
        "               'bootstrap': bootstrap}\n",
        "pprint(random_grid)\n",
        "\n",
        "\n",
        "\n",
        "# Use the random grid to search for best hyperparameters\n",
        "# First create the base model to tune\n",
        "rf = RandomForestRegressor()\n",
        "# Random search of parameters, using 3 fold cross validation, \n",
        "# search across 100 different combinations, and use all available cores\n",
        "rf_random = RandomizedSearchCV(estimator = rf, param_distributions = random_grid, n_iter = 100, cv = 3, verbose=2, random_state=42, n_jobs = -1)\n",
        "# Fit the random search model\n",
        "rf_random.fit(train_x, train_y)"
      ],
      "execution_count": null,
      "outputs": [
        {
          "output_type": "stream",
          "text": [
            "{'bootstrap': [True, False],\n",
            " 'max_depth': [10, 20, 30, 40, 50, 60, 70, 80, 90, 100, 110, None],\n",
            " 'max_features': ['auto', 'sqrt'],\n",
            " 'min_samples_leaf': [1, 2, 4],\n",
            " 'min_samples_split': [2, 5, 10],\n",
            " 'n_estimators': [200, 400, 600, 800, 1000, 1200, 1400, 1600, 1800, 2000]}\n",
            "Fitting 3 folds for each of 100 candidates, totalling 300 fits\n"
          ],
          "name": "stdout"
        },
        {
          "output_type": "stream",
          "text": [
            "[Parallel(n_jobs=-1)]: Using backend LokyBackend with 2 concurrent workers.\n",
            "/usr/local/lib/python3.6/dist-packages/joblib/externals/loky/process_executor.py:691: UserWarning: A worker stopped while some jobs were given to the executor. This can be caused by a too short worker timeout or by a memory leak.\n",
            "  \"timeout or by a memory leak.\", UserWarning\n",
            "[Parallel(n_jobs=-1)]: Done  37 tasks      | elapsed: 35.3min\n",
            "[Parallel(n_jobs=-1)]: Done 158 tasks      | elapsed: 166.4min\n",
            "[Parallel(n_jobs=-1)]: Done 300 out of 300 | elapsed: 310.6min finished\n"
          ],
          "name": "stderr"
        },
        {
          "output_type": "execute_result",
          "data": {
            "text/plain": [
              "RandomizedSearchCV(cv=3, error_score=nan,\n",
              "                   estimator=RandomForestRegressor(bootstrap=True,\n",
              "                                                   ccp_alpha=0.0,\n",
              "                                                   criterion='mse',\n",
              "                                                   max_depth=None,\n",
              "                                                   max_features='auto',\n",
              "                                                   max_leaf_nodes=None,\n",
              "                                                   max_samples=None,\n",
              "                                                   min_impurity_decrease=0.0,\n",
              "                                                   min_impurity_split=None,\n",
              "                                                   min_samples_leaf=1,\n",
              "                                                   min_samples_split=2,\n",
              "                                                   min_weight_fraction_leaf=0.0,\n",
              "                                                   n_estimators=100,\n",
              "                                                   n_jobs=None, oob_score=Fals...\n",
              "                   param_distributions={'bootstrap': [True, False],\n",
              "                                        'max_depth': [10, 20, 30, 40, 50, 60,\n",
              "                                                      70, 80, 90, 100, 110,\n",
              "                                                      None],\n",
              "                                        'max_features': ['auto', 'sqrt'],\n",
              "                                        'min_samples_leaf': [1, 2, 4],\n",
              "                                        'min_samples_split': [2, 5, 10],\n",
              "                                        'n_estimators': [200, 400, 600, 800,\n",
              "                                                         1000, 1200, 1400, 1600,\n",
              "                                                         1800, 2000]},\n",
              "                   pre_dispatch='2*n_jobs', random_state=42, refit=True,\n",
              "                   return_train_score=False, scoring=None, verbose=2)"
            ]
          },
          "metadata": {
            "tags": []
          },
          "execution_count": 42
        }
      ]
    },
    {
      "cell_type": "code",
      "metadata": {
        "id": "-OtmjlNLoDuB"
      },
      "source": [
        "# KNN\n",
        "\n",
        "from sklearn.neighbors import KNeighborsClassifier\n",
        "\n",
        "neigh = KNeighborsClassifier(n_neighbors=3)\n",
        "neigh.fit(train_x, train_y)\n",
        "knn=neigh.predict(test_Df_x)\n",
        "print(accuracy_score(test_Df_y, knn))"
      ],
      "execution_count": 2,
      "outputs": []
    },
    {
      "cell_type": "code",
      "metadata": {
        "id": "EodfTekZpCAw"
      },
      "source": [
        "# SVC with kernel \n",
        "\n",
        "from sklearn import svm\n",
        "from sklearn.svm import SVC\n",
        "\n",
        "rbf_svc = svm.SVC(kernel='rbf')\n",
        "rbf_svc.fit(train_x, train_y)\n",
        "\n",
        "rbf=rbf_svc.predict(test_Df_x)\n",
        "accuracy_score(test_Df_y, rbf)\n"
      ],
      "execution_count": 3,
      "outputs": []
    },
    {
      "cell_type": "code",
      "metadata": {
        "id": "kyQxoqIJQ3PJ"
      },
      "source": [
        "# AdaBoost\n",
        "\n",
        " from sklearn.ensemble import AdaBoostClassifier\n",
        "\n",
        "ad = AdaBoostClassifier(n_estimators=100, random_state=0)\n",
        "ad.fit(train_x, train_y)\n",
        "adb=ad.predict(test_Df_x)\n",
        "print(accuracy_score(test_Df_y, adb))"
      ],
      "execution_count": 4,
      "outputs": []
    },
    {
      "cell_type": "code",
      "metadata": {
        "id": "bqBke1uMUSb9"
      },
      "source": [
        "# logistic\n",
        "\n",
        "from sklearn.linear_model import LogisticRegression\n",
        "\n",
        "lr = LogisticRegression(multi_class='ovr')\n",
        "lr.fit(train_x, train_y)\n",
        "lrc=lr.predict(test_Df_x)\n",
        "print(accuracy_score(test_Df_y, lrc))"
      ],
      "execution_count": 17,
      "outputs": []
    },
    {
      "cell_type": "code",
      "metadata": {
        "id": "YxMnr7qPVb8K"
      },
      "source": [
        "# Naive base Classifier\n",
        "\n",
        "from sklearn.naive_bayes import GaussianNB\n",
        "\n",
        "lr = GaussianNB()\n",
        "lr.fit(train_x, train_y)\n",
        "lrc=lr.predict(test_Df_x)\n",
        "print(accuracy_score(test_Df_y, lrc))"
      ],
      "execution_count": 5,
      "outputs": []
    },
    {
      "cell_type": "code",
      "metadata": {
        "id": "oVMvAK0tXgYQ"
      },
      "source": [
        "# Decision Tree Classifier\n",
        "\n",
        "from sklearn.tree import DecisionTreeClassifier \n",
        "\n",
        "dtree_model = DecisionTreeClassifier().fit(train_x, train_y)\n",
        "dtree_predictions = dtree_model.predict(test_Df_x)\n",
        "accuracy_score(test_Df_y, dtree_predictions)"
      ],
      "execution_count": 6,
      "outputs": []
    },
    {
      "cell_type": "code",
      "metadata": {
        "id": "i83CFtYVZ6Cp"
      },
      "source": [
        "# GradientBoostingClassifier\n",
        "\n",
        "from sklearn.ensemble import GradientBoostingClassifier\n",
        "\n",
        "gb=GradientBoostingClassifier()\n",
        "gb.fit(train_x, train_y)\n",
        "gbc=lr.predict(test_Df_x)\n",
        "print(accuracy_score(test_Df_y, gbc))"
      ],
      "execution_count": null,
      "outputs": []
    }
  ]
}